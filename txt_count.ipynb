{
 "cells": [
  {
   "cell_type": "markdown",
   "metadata": {},
   "source": [
    "# Count lines and words in txt file"
   ]
  },
  {
   "cell_type": "code",
   "execution_count": 1,
   "metadata": {},
   "outputs": [],
   "source": [
    "import os\n",
    "from pathlib import Path"
   ]
  },
  {
   "cell_type": "code",
   "execution_count": 2,
   "metadata": {},
   "outputs": [],
   "source": [
    "la = \"sq\" #change to your language\n",
    "encoding='utf-8' #change depending on your language\n",
    "dir = os.getcwd()\n",
    "downloads = Path(f'{dir}/downloads')\n",
    "books = Path(f'{dir}/books')\n",
    "data = Path(f'{dir}/data')\n",
    "\n",
    "filename = data / 'books.txt'"
   ]
  },
  {
   "cell_type": "code",
   "execution_count": 4,
   "metadata": {},
   "outputs": [
    {
     "name": "stdout",
     "output_type": "stream",
     "text": [
      "Number of lines in the file: 1274997\n",
      "Number of words in the file: 9678262\n"
     ]
    }
   ],
   "source": [
    "with open(filename, 'r', encoding=encoding) as file:\n",
    "    line_count = sum(1 for line in file)\n",
    "    file.seek(0)\n",
    "    contents = file.read()\n",
    "    words = contents.split()\n",
    "print(f\"Number of lines in the file: {line_count}\")\n",
    "print(f\"Number of words in the file: {len(words)}\")"
   ]
  }
 ],
 "metadata": {
  "kernelspec": {
   "display_name": ".venv",
   "language": "python",
   "name": "python3"
  },
  "language_info": {
   "codemirror_mode": {
    "name": "ipython",
    "version": 3
   },
   "file_extension": ".py",
   "mimetype": "text/x-python",
   "name": "python",
   "nbconvert_exporter": "python",
   "pygments_lexer": "ipython3",
   "version": "3.12.0"
  }
 },
 "nbformat": 4,
 "nbformat_minor": 2
}
